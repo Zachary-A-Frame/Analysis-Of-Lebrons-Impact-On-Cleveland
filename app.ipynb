{
 "cells": [
  {
   "cell_type": "code",
   "execution_count": 1,
   "metadata": {},
   "outputs": [],
   "source": [
    "# Impact of a Professional Athlete on a Local Economy\n",
    "\n",
    "# Research Questions: \n",
    "## What was the economic impact of the city of cleveland during the following years:\n",
    "##  2003-2010 (Lebron in Cleveland, Finals in 2007)\n",
    "##  2010-2014 (Lebron in Miami)\n",
    "##  2014-2018 (Lebron back home with four trips to Championships, Championship 2016)\n",
    "\n",
    "# Impact of Lebron playing in Cleveland on Restaurants, Retail Sales, Hotels, and Game Attendance.\n",
    "# Target a state down to a zip code, break down data\n",
    "\n",
    "# Bonus: How do events such as the Cleveland Indians, Browns, and Concerts affect data?\n"
   ]
  },
  {
   "cell_type": "code",
   "execution_count": 14,
   "metadata": {},
   "outputs": [],
   "source": [
    "from config import census_api_key\n",
    "from config import bls_api_key\n",
    "\n",
    "import requests\n",
    "import json"
   ]
  },
  {
   "cell_type": "code",
   "execution_count": 26,
   "metadata": {},
   "outputs": [
    {
     "name": "stdout",
     "output_type": "stream",
     "text": [
      "https://api.census.gov/data/2007/zbp?get=GEO_TTL,EMP,NAICS_TTL,PAYANN&for=zipcode:44113&key=d38a2e9fb4b46b223a18e575c7275bbcbfad9482\n"
     ]
    }
   ],
   "source": [
    "### Example for using API Census to pull data. It takes several parameters in. The first is the year, followed by a slew of variables.\n",
    "### In this example we take the geographical location (from a zip code put in at the end of the URL)\n",
    "### The number of people employed at that location, and the total payroll in that zipcode.\n",
    "### Sales tax receipts \n",
    "\n",
    "url = f\"https://api.census.gov/data/2007/zbp?get=GEO_TTL,EMP,NAICS_TTL,PAYANN&for=zipcode:44113&key={census_api_key}\"\n",
    "\n",
    "response = requests.get(url)\n",
    "print(response.url)"
   ]
  },
  {
   "cell_type": "code",
   "execution_count": 29,
   "metadata": {},
   "outputs": [
    {
     "name": "stdout",
     "output_type": "stream",
     "text": [
      "[\n",
      "    [\n",
      "        \"GEO_TTL\",\n",
      "        \"EMP\",\n",
      "        \"NAICS_TTL\",\n",
      "        \"PAYANN\",\n",
      "        \"zipcode\"\n",
      "    ],\n",
      "    [\n",
      "        \"Cleveland, OH\",\n",
      "        \"23408\",\n",
      "        \"Total\",\n",
      "        \"1150388\",\n",
      "        \"44113\"\n",
      "    ]\n",
      "]\n"
     ]
    }
   ],
   "source": [
    "data = response.json()\n",
    "print(json.dumps(data, indent=4, sort_keys=True))"
   ]
  },
  {
   "cell_type": "code",
   "execution_count": null,
   "metadata": {},
   "outputs": [],
   "source": [
    "\n"
   ]
  }
 ],
 "metadata": {
  "kernelspec": {
   "display_name": "Python 3",
   "language": "python",
   "name": "python3"
  },
  "language_info": {
   "codemirror_mode": {
    "name": "ipython",
    "version": 3
   },
   "file_extension": ".py",
   "mimetype": "text/x-python",
   "name": "python",
   "nbconvert_exporter": "python",
   "pygments_lexer": "ipython3",
   "version": "3.7.3"
  }
 },
 "nbformat": 4,
 "nbformat_minor": 4
}
